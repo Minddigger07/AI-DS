{
 "cells": [
  {
   "cell_type": "code",
   "execution_count": 31,
   "metadata": {},
   "outputs": [
    {
     "name": "stdout",
     "output_type": "stream",
     "text": [
      "Sepal Length & Petal Width of Iris Flower\n",
      "Covariance: 0.5163\n",
      "Correlation:0.8179\n"
     ]
    }
   ],
   "source": [
    "from sklearn.datasets import load_iris\n",
    "import numpy as np\n",
    "import pandas as pd\n",
    "\n",
    "iris = load_iris()\n",
    "df = pd.DataFrame(data=iris.data, columns=iris.feature_names)\n",
    "df.head()\n",
    "\n",
    "sep_len = df.loc[:, \"sepal length (cm)\"]\n",
    "sep_wid = df.loc[:, \"petal width (cm)\"]\n",
    "\n",
    "cov = round(np.cov(sep_len, sep_wid)[0][1],4)\n",
    "cor = round(np.corrcoef(sep_len, sep_wid)[0][1], 4)\n",
    "print(f\"Sepal Length & Petal Width of Iris Flower\\nCovariance: {cov}\\nCorrelation:{cor}\")\n"
   ]
  }
 ],
 "metadata": {
  "kernelspec": {
   "display_name": "Python 3",
   "language": "python",
   "name": "python3"
  },
  "language_info": {
   "codemirror_mode": {
    "name": "ipython",
    "version": 3
   },
   "file_extension": ".py",
   "mimetype": "text/x-python",
   "name": "python",
   "nbconvert_exporter": "python",
   "pygments_lexer": "ipython3",
   "version": "3.6.9"
  }
 },
 "nbformat": 4,
 "nbformat_minor": 2
}
