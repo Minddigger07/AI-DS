from sklearn.datasets import load_breast_cancer
dat = load_breast_cancer()
dat
x, y = dat.data, dat.target

from sklearn.model_selection import train_test_split
x_train, x_test, y_train, y_test = train_test_split(x, y, test_size=0.2, random_state=1)

from sklearn.naive_bayes import GaussianNB
NB = GaussianNB().fit(x_train, y_train)
pred = NB.predict(x_test)

from sklearn.metrics import *

#one by one importing

#from sklearn.metrics import make_scorer, accuracy_score,precision_score
#from sklearn.metrics import classification_report
#from sklearn.metrics import confusion_matrix
#from sklearn.metrics import accuracy_score ,precision_score,recall_score,f1_score

#calculating with predef functions

#cm = confusion_matrix(y_test, pred)
#accuracy = accuracy_score(y_test,pred)
#precision =precision_score(y_test, pred, average='micro')
#recall =  recall_score(y_test, pred, average='micro')
#f1 = f1_score(y_test, pred, average='micro')


import matplotlib.pyplot as plt
import seaborn as sn
import numpy as np
plt.figure(figsize=(7,5))
sn.heatmap(cm, annot=True)

#these are just UI things

#tick_locations = np.arange(2)
#plt.xticks(tick_locations, tick_labels)
#tick_labels1=['TN','FP']
#tick_locations1 = np.arange(2)
#plt.yticks(tick_locations1, tick_labels1)


#plt.suptitle("F",y=0.923,x=0.6)
#subtitle_string_1=("An In-depth Comparison")
#subtitle_string_2=("Immediately FollowingFirst Of The Month Following")

#plt.suptitle(subtitle_string_1,fontsize=6,x=0.9, y=0.8)
#plt.suptitle(subtitle_string_2,fontsize=6,x=.41, y=0.86, color='grey')

plt.title("TN                              FP" ,fontweight='bold')
plt.xlabel('Predicted',fontweight='bold')
plt.ylabel('FN                                            \nActual',fontweight='bold')
plt.show()
print("Number datas for Precition is:",len(x_test))
print("Predicted:",NB.predict(x_test))
print('Confusion matrix for Naive Bayes\n',cm)

#print('accuracy: ' , round(accuracy*100, 2))
#print('precision:', round(precision*100, 2))
#print('recall:' ,round(recall*100, 2))

#calculating and printing using equation


TP,TN,FP,FN = cm[1,1],cm[0,0],cm[0,1],cm[1,0]
print("accuracy:",(TP+TN)/(TP+TN+FN+FP)*100)
print("precision:",TP/(TP+FP)*100)
print("precision:",TP/(TP+FN)*100)
