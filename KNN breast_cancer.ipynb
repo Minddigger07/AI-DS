{
 "cells": [
  {
   "cell_type": "code",
   "execution_count": 2,
   "metadata": {},
   "outputs": [
    {
     "name": "stdout",
     "output_type": "stream",
     "text": [
      "Enter the number for k value:3\n",
      "Number datas for Preiction is: 114\n",
      "Prediction Accuracy: 92.98245614035088\n",
      "Predicted: [0 0 0 1 1 0 0 0 1 1 1 0 1 1 1 0 1 1 1 0 0 1 0 1 1 1 1 1 1 0 1 1 1 0 1 1 0\n",
      " 1 0 1 1 0 1 1 1 1 1 1 1 1 0 0 1 1 1 1 1 0 1 1 1 0 0 1 1 1 0 0 1 1 0 0 1 1\n",
      " 1 1 1 1 1 1 0 1 1 0 0 0 0 0 1 1 1 1 1 1 1 1 0 0 1 0 0 1 0 0 0 1 1 0 1 1 0\n",
      " 1 1 0]\n",
      "Confussion Matrix\n",
      " [[38  5]\n",
      " [ 3 68]]\n"
     ]
    },
    {
     "data": {
      "image/png": "[encoded data removed]",
      "text/plain": [
       "<matplotlib.figure.Figure at 0x7f8a32d5e358>"
      ]
     },
     "metadata": {},
     "output_type": "display_data"
    },
    {
     "name": "stdout",
     "output_type": "stream",
     "text": [
      "The prediction is correct\n"
     ]
    }
   ],
   "source": [
    "from sklearn.neighbors import KNeighborsClassifier\n",
    "from sklearn.model_selection import train_test_split\n",
    "from sklearn.datasets import load_breast_cancer\n",
    "\n",
    "dat = load_breast_cancer()\n",
    "\n",
    "X = dat.data\n",
    "y = dat.target\n",
    "\n",
    "\n",
    "X_train, X_test, y_train, y_test = train_test_split(\n",
    "             X, y, test_size = 0.2, random_state=42)\n",
    "a=int(input(\"Enter the number for k value:\")  )\n",
    "knn = KNeighborsClassifier(n_neighbors=a)\n",
    "print(\"Number datas for Preiction is:\",len(X_test))\n",
    "knn.fit(X_train, y_train)\n",
    "print(\"Prediction Accuracy:\",knn.score(X_test, y_test)*100)\n",
    "\n",
    "print(\"Predicted:\",knn.predict(X_test))\n",
    "\n",
    "\n",
    "from sklearn.metrics import confusion_matrix\n",
    "y_pred = knn.predict(X_test)\n",
    "con_mat = confusion_matrix(y_test, y_pred)\n",
    "print(\"Confussion Matrix\\n\",con_mat)\n",
    "\n",
    "\n",
    "import matplotlib.pyplot as plt\n",
    "import seaborn as sn\n",
    "plt.figure(figsize=(7,5))\n",
    "sn.heatmap(con_mat, annot=True)\n",
    "plt.xlabel('Predicted')\n",
    "plt.ylabel('Truth')\n",
    "plt.show()\n",
    "\n",
    "if(con_mat[0,1] or con_mat[0,2] or con_mat[1,0] or con_mat[1,2] or con_mat[2,0] or con_mat[2,1]==0):\n",
    "    print(\"The prediction is correct\")\n",
    "else:\n",
    "    sum=con_mat[0,1]+con_mat[0,2]+con_mat[1,0]+con_mat[1,2]+con_mat[2,0]+con_mat[2,1]\n",
    "    print(\"The prediction is wrong\")\n",
    "    print(\"Number of prediction is wrong=\",sum)"
   ]
  },
  {
   "cell_type": "code",
   "execution_count": null,
   "metadata": {},
   "outputs": [],
   "source": []
  }
 ],
 "metadata": {
  "kernelspec": {
   "display_name": "Python 3",
   "language": "python",
   "name": "python3"
  },
  "language_info": {
   "codemirror_mode": {
    "name": "ipython",
    "version": 3
   },
   "file_extension": ".py",
   "mimetype": "text/x-python",
   "name": "python",
   "nbconvert_exporter": "python",
   "pygments_lexer": "ipython3",
   "version": "3.6.9"
  }
 },
 "nbformat": 4,
 "nbformat_minor": 2
}
