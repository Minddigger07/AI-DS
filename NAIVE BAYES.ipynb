{
 "cells": [
  {
   "cell_type": "code",
   "execution_count": 35,
   "metadata": {},
   "outputs": [
    {
     "data": {
      "image/png": "[encoded data removed]",
      "text/plain": [
       "<matplotlib.figure.Figure at 0x7f8dce1ed278>"
      ]
     },
     "metadata": {},
     "output_type": "display_data"
    },
    {
     "name": "stdout",
     "output_type": "stream",
     "text": [
      "Number datas for Precition is: 114\n",
      "Predicted: [0 0 1 0 1 0 0 0 1 1 1 0 0 1 1 1 1 1 1 0 1 1 0 1 0 1 1 0 0 0 0 1 0 0 1 1 0\n",
      " 1 1 1 1 1 1 1 1 0 1 1 1 0 0 0 1 1 1 1 1 0 1 1 1 0 1 1 1 1 1 0 1 1 1 1 1 0\n",
      " 1 0 0 1 1 0 1 0 1 0 1 1 0 1 0 1 1 0 1 1 0 0 1 1 1 1 1 1 1 1 1 1 1 1 0 0 0\n",
      " 0 1 1]\n",
      "Confusion matrix for Naive Bayes\n",
      " [[38  4]\n",
      " [ 2 70]]\n",
      "accuracy: 94.73684210526315\n",
      "precision: 94.5945945945946\n",
      "precision: 97.22222222222221\n"
     ]
    }
   ],
   "source": [
    "from sklearn.datasets import load_breast_cancer\n",
    "dat = load_breast_cancer()\n",
    "dat\n",
    "x, y = dat.data, dat.target\n",
    "\n",
    "from sklearn.model_selection import train_test_split\n",
    "x_train, x_test, y_train, y_test = train_test_split(x, y, test_size=0.2, random_state=1)\n",
    "\n",
    "from sklearn.naive_bayes import GaussianNB\n",
    "NB = GaussianNB().fit(x_train, y_train)\n",
    "pred = NB.predict(x_test)\n",
    "\n",
    "from sklearn.metrics import *\n",
    "\n",
    "#one by one importing\n",
    "\n",
    "#from sklearn.metrics import make_scorer, accuracy_score,precision_score\n",
    "#from sklearn.metrics import classification_report\n",
    "#from sklearn.metrics import confusion_matrix\n",
    "#from sklearn.metrics import accuracy_score ,precision_score,recall_score,f1_score\n",
    "\n",
    "#calculating with predef functions\n",
    "\n",
    "cm = confusion_matrix(y_test, pred)\n",
    "#accuracy = accuracy_score(y_test,pred)\n",
    "#precision =precision_score(y_test, pred, average='micro')\n",
    "#recall =  recall_score(y_test, pred, average='micro')\n",
    "#f1 = f1_score(y_test, pred, average='micro')\n",
    "\n",
    "\n",
    "import matplotlib.pyplot as plt\n",
    "import seaborn as sn\n",
    "import numpy as np\n",
    "plt.figure(figsize=(7,5))\n",
    "sn.heatmap(cm, annot=True)\n",
    "\n",
    "#these are just UI things\n",
    "\n",
    "#tick_locations = np.arange(2)\n",
    "#plt.xticks(tick_locations, tick_labels)\n",
    "#tick_labels1=['TN','FP']\n",
    "#tick_locations1 = np.arange(2)\n",
    "#plt.yticks(tick_locations1, tick_labels1)\n",
    "\n",
    "\n",
    "#plt.suptitle(\"F\",y=0.923,x=0.6)\n",
    "#subtitle_string_1=(\"An In-depth Comparison\")\n",
    "#subtitle_string_2=(\"Immediately FollowingFirst Of The Month Following\")\n",
    "\n",
    "#plt.suptitle(subtitle_string_1,fontsize=6,x=0.9, y=0.8)\n",
    "#plt.suptitle(subtitle_string_2,fontsize=6,x=.41, y=0.86, color='grey')\n",
    "\n",
    "plt.title(\"TN                              FP\" ,fontweight='bold')\n",
    "plt.xlabel('Predicted',fontweight='bold')\n",
    "plt.ylabel('FN                                            \\nActual',fontweight='bold')\n",
    "plt.show()\n",
    "print(\"Number datas for Precition is:\",len(x_test))\n",
    "print(\"Predicted:\",NB.predict(x_test))\n",
    "print('Confusion matrix for Naive Bayes\\n',cm)\n",
    "\n",
    "#print('accuracy: ' , round(accuracy*100, 2))\n",
    "#print('precision:', round(precision*100, 2))\n",
    "#print('recall:' ,round(recall*100, 2))\n",
    "\n",
    "#calculating and printing using equation\n",
    "\n",
    "\n",
    "TP,TN,FP,FN = cm[1,1],cm[0,0],cm[0,1],cm[1,0]\n",
    "print(\"accuracy:\",(TP+TN)/(TP+TN+FN+FP)*100)\n",
    "print(\"precision:\",TP/(TP+FP)*100)\n",
    "print(\"precision:\",TP/(TP+FN)*100)"
   ]
  },
  {
   "cell_type": "code",
   "execution_count": null,
   "metadata": {},
   "outputs": [],
   "source": []
  }
 ],
 "metadata": {
  "kernelspec": {
   "display_name": "Python 3",
   "language": "python",
   "name": "python3"
  },
  "language_info": {
   "codemirror_mode": {
    "name": "ipython",
    "version": 3
   },
   "file_extension": ".py",
   "mimetype": "text/x-python",
   "name": "python",
   "nbconvert_exporter": "python",
   "pygments_lexer": "ipython3",
   "version": "3.6.9"
  }
 },
 "nbformat": 4,
 "nbformat_minor": 2
}
